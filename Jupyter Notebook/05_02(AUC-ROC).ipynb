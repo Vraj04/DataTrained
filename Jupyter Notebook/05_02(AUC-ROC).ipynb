{
 "cells": [
  {
   "cell_type": "code",
   "execution_count": 1,
   "id": "1cb285b9",
   "metadata": {},
   "outputs": [],
   "source": [
    "import numpy as np\n",
    "import pandas as pd\n",
    "import matplotlib.pyplot as plt\n",
    "from sklearn.datasets import load_breast_cancer\n",
    "from sklearn.linear_model import LogisticRegression\n",
    "from sklearn.metrics import accuracy_score,confusion_matrix,classification_report\n",
    "from sklearn.model_selection import train_test_split\n",
    "\n",
    "import warnings\n",
    "warnings.filterwarnings('ignore')"
   ]
  },
  {
   "cell_type": "code",
   "execution_count": 2,
   "id": "2bac9fc3",
   "metadata": {},
   "outputs": [],
   "source": [
    "cancer=load_breast_cancer()"
   ]
  },
  {
   "cell_type": "code",
   "execution_count": 3,
   "id": "a6683fa5",
   "metadata": {},
   "outputs": [
    {
     "data": {
      "text/plain": [
       "dict_keys(['data', 'target', 'frame', 'target_names', 'DESCR', 'feature_names', 'filename', 'data_module'])"
      ]
     },
     "execution_count": 3,
     "metadata": {},
     "output_type": "execute_result"
    }
   ],
   "source": [
    "cancer.keys()"
   ]
  },
  {
   "cell_type": "code",
   "execution_count": 4,
   "id": "157f2fe7",
   "metadata": {},
   "outputs": [
    {
     "data": {
      "text/plain": [
       "array([[1.799e+01, 1.038e+01, 1.228e+02, ..., 2.654e-01, 4.601e-01,\n",
       "        1.189e-01],\n",
       "       [2.057e+01, 1.777e+01, 1.329e+02, ..., 1.860e-01, 2.750e-01,\n",
       "        8.902e-02],\n",
       "       [1.969e+01, 2.125e+01, 1.300e+02, ..., 2.430e-01, 3.613e-01,\n",
       "        8.758e-02],\n",
       "       ...,\n",
       "       [1.660e+01, 2.808e+01, 1.083e+02, ..., 1.418e-01, 2.218e-01,\n",
       "        7.820e-02],\n",
       "       [2.060e+01, 2.933e+01, 1.401e+02, ..., 2.650e-01, 4.087e-01,\n",
       "        1.240e-01],\n",
       "       [7.760e+00, 2.454e+01, 4.792e+01, ..., 0.000e+00, 2.871e-01,\n",
       "        7.039e-02]])"
      ]
     },
     "execution_count": 4,
     "metadata": {},
     "output_type": "execute_result"
    }
   ],
   "source": [
    "cancer.data"
   ]
  },
  {
   "cell_type": "code",
   "execution_count": 5,
   "id": "d3662b1c",
   "metadata": {},
   "outputs": [
    {
     "data": {
      "text/plain": [
       "array(['malignant', 'benign'], dtype='<U9')"
      ]
     },
     "execution_count": 5,
     "metadata": {},
     "output_type": "execute_result"
    }
   ],
   "source": [
    "cancer.target_names"
   ]
  },
  {
   "cell_type": "code",
   "execution_count": 6,
   "id": "ec6cd628",
   "metadata": {},
   "outputs": [
    {
     "data": {
      "text/plain": [
       "array([0, 0, 0, 0, 0, 0, 0, 0, 0, 0, 0, 0, 0, 0, 0, 0, 0, 0, 0, 1, 1, 1,\n",
       "       0, 0, 0, 0, 0, 0, 0, 0, 0, 0, 0, 0, 0, 0, 0, 1, 0, 0, 0, 0, 0, 0,\n",
       "       0, 0, 1, 0, 1, 1, 1, 1, 1, 0, 0, 1, 0, 0, 1, 1, 1, 1, 0, 1, 0, 0,\n",
       "       1, 1, 1, 1, 0, 1, 0, 0, 1, 0, 1, 0, 0, 1, 1, 1, 0, 0, 1, 0, 0, 0,\n",
       "       1, 1, 1, 0, 1, 1, 0, 0, 1, 1, 1, 0, 0, 1, 1, 1, 1, 0, 1, 1, 0, 1,\n",
       "       1, 1, 1, 1, 1, 1, 1, 0, 0, 0, 1, 0, 0, 1, 1, 1, 0, 0, 1, 0, 1, 0,\n",
       "       0, 1, 0, 0, 1, 1, 0, 1, 1, 0, 1, 1, 1, 1, 0, 1, 1, 1, 1, 1, 1, 1,\n",
       "       1, 1, 0, 1, 1, 1, 1, 0, 0, 1, 0, 1, 1, 0, 0, 1, 1, 0, 0, 1, 1, 1,\n",
       "       1, 0, 1, 1, 0, 0, 0, 1, 0, 1, 0, 1, 1, 1, 0, 1, 1, 0, 0, 1, 0, 0,\n",
       "       0, 0, 1, 0, 0, 0, 1, 0, 1, 0, 1, 1, 0, 1, 0, 0, 0, 0, 1, 1, 0, 0,\n",
       "       1, 1, 1, 0, 1, 1, 1, 1, 1, 0, 0, 1, 1, 0, 1, 1, 0, 0, 1, 0, 1, 1,\n",
       "       1, 1, 0, 1, 1, 1, 1, 1, 0, 1, 0, 0, 0, 0, 0, 0, 0, 0, 0, 0, 0, 0,\n",
       "       0, 0, 1, 1, 1, 1, 1, 1, 0, 1, 0, 1, 1, 0, 1, 1, 0, 1, 0, 0, 1, 1,\n",
       "       1, 1, 1, 1, 1, 1, 1, 1, 1, 1, 1, 0, 1, 1, 0, 1, 0, 1, 1, 1, 1, 1,\n",
       "       1, 1, 1, 1, 1, 1, 1, 1, 1, 0, 1, 1, 1, 0, 1, 0, 1, 1, 1, 1, 0, 0,\n",
       "       0, 1, 1, 1, 1, 0, 1, 0, 1, 0, 1, 1, 1, 0, 1, 1, 1, 1, 1, 1, 1, 0,\n",
       "       0, 0, 1, 1, 1, 1, 1, 1, 1, 1, 1, 1, 1, 0, 0, 1, 0, 0, 0, 1, 0, 0,\n",
       "       1, 1, 1, 1, 1, 0, 1, 1, 1, 1, 1, 0, 1, 1, 1, 0, 1, 1, 0, 0, 1, 1,\n",
       "       1, 1, 1, 1, 0, 1, 1, 1, 1, 1, 1, 1, 0, 1, 1, 1, 1, 1, 0, 1, 1, 0,\n",
       "       1, 1, 1, 1, 1, 1, 1, 1, 1, 1, 1, 1, 0, 1, 0, 0, 1, 0, 1, 1, 1, 1,\n",
       "       1, 0, 1, 1, 0, 1, 0, 1, 1, 0, 1, 0, 1, 1, 1, 1, 1, 1, 1, 1, 0, 0,\n",
       "       1, 1, 1, 1, 1, 1, 0, 1, 1, 1, 1, 1, 1, 1, 1, 1, 1, 0, 1, 1, 1, 1,\n",
       "       1, 1, 1, 0, 1, 0, 1, 1, 0, 1, 1, 1, 1, 1, 0, 0, 1, 0, 1, 0, 1, 1,\n",
       "       1, 1, 1, 0, 1, 1, 0, 1, 0, 1, 0, 0, 1, 1, 1, 0, 1, 1, 1, 1, 1, 1,\n",
       "       1, 1, 1, 1, 1, 0, 1, 0, 0, 1, 1, 1, 1, 1, 1, 1, 1, 1, 1, 1, 1, 1,\n",
       "       1, 1, 1, 1, 1, 1, 1, 1, 1, 1, 1, 1, 0, 0, 0, 0, 0, 0, 1])"
      ]
     },
     "execution_count": 6,
     "metadata": {},
     "output_type": "execute_result"
    }
   ],
   "source": [
    "cancer.target"
   ]
  },
  {
   "cell_type": "code",
   "execution_count": 7,
   "id": "657ee875",
   "metadata": {},
   "outputs": [],
   "source": [
    "x=pd.DataFrame(cancer.data,columns=cancer.feature_names)\n",
    "y=pd.DataFrame(cancer.target)"
   ]
  },
  {
   "cell_type": "code",
   "execution_count": 8,
   "id": "24202fdf",
   "metadata": {},
   "outputs": [
    {
     "name": "stdout",
     "output_type": "stream",
     "text": [
      "     mean radius  mean texture  mean perimeter  mean area  mean smoothness  \\\n",
      "0          17.99         10.38          122.80     1001.0          0.11840   \n",
      "1          20.57         17.77          132.90     1326.0          0.08474   \n",
      "2          19.69         21.25          130.00     1203.0          0.10960   \n",
      "3          11.42         20.38           77.58      386.1          0.14250   \n",
      "4          20.29         14.34          135.10     1297.0          0.10030   \n",
      "..           ...           ...             ...        ...              ...   \n",
      "564        21.56         22.39          142.00     1479.0          0.11100   \n",
      "565        20.13         28.25          131.20     1261.0          0.09780   \n",
      "566        16.60         28.08          108.30      858.1          0.08455   \n",
      "567        20.60         29.33          140.10     1265.0          0.11780   \n",
      "568         7.76         24.54           47.92      181.0          0.05263   \n",
      "\n",
      "     mean compactness  mean concavity  mean concave points  mean symmetry  \\\n",
      "0             0.27760         0.30010              0.14710         0.2419   \n",
      "1             0.07864         0.08690              0.07017         0.1812   \n",
      "2             0.15990         0.19740              0.12790         0.2069   \n",
      "3             0.28390         0.24140              0.10520         0.2597   \n",
      "4             0.13280         0.19800              0.10430         0.1809   \n",
      "..                ...             ...                  ...            ...   \n",
      "564           0.11590         0.24390              0.13890         0.1726   \n",
      "565           0.10340         0.14400              0.09791         0.1752   \n",
      "566           0.10230         0.09251              0.05302         0.1590   \n",
      "567           0.27700         0.35140              0.15200         0.2397   \n",
      "568           0.04362         0.00000              0.00000         0.1587   \n",
      "\n",
      "     mean fractal dimension  ...  worst radius  worst texture  \\\n",
      "0                   0.07871  ...        25.380          17.33   \n",
      "1                   0.05667  ...        24.990          23.41   \n",
      "2                   0.05999  ...        23.570          25.53   \n",
      "3                   0.09744  ...        14.910          26.50   \n",
      "4                   0.05883  ...        22.540          16.67   \n",
      "..                      ...  ...           ...            ...   \n",
      "564                 0.05623  ...        25.450          26.40   \n",
      "565                 0.05533  ...        23.690          38.25   \n",
      "566                 0.05648  ...        18.980          34.12   \n",
      "567                 0.07016  ...        25.740          39.42   \n",
      "568                 0.05884  ...         9.456          30.37   \n",
      "\n",
      "     worst perimeter  worst area  worst smoothness  worst compactness  \\\n",
      "0             184.60      2019.0           0.16220            0.66560   \n",
      "1             158.80      1956.0           0.12380            0.18660   \n",
      "2             152.50      1709.0           0.14440            0.42450   \n",
      "3              98.87       567.7           0.20980            0.86630   \n",
      "4             152.20      1575.0           0.13740            0.20500   \n",
      "..               ...         ...               ...                ...   \n",
      "564           166.10      2027.0           0.14100            0.21130   \n",
      "565           155.00      1731.0           0.11660            0.19220   \n",
      "566           126.70      1124.0           0.11390            0.30940   \n",
      "567           184.60      1821.0           0.16500            0.86810   \n",
      "568            59.16       268.6           0.08996            0.06444   \n",
      "\n",
      "     worst concavity  worst concave points  worst symmetry  \\\n",
      "0             0.7119                0.2654          0.4601   \n",
      "1             0.2416                0.1860          0.2750   \n",
      "2             0.4504                0.2430          0.3613   \n",
      "3             0.6869                0.2575          0.6638   \n",
      "4             0.4000                0.1625          0.2364   \n",
      "..               ...                   ...             ...   \n",
      "564           0.4107                0.2216          0.2060   \n",
      "565           0.3215                0.1628          0.2572   \n",
      "566           0.3403                0.1418          0.2218   \n",
      "567           0.9387                0.2650          0.4087   \n",
      "568           0.0000                0.0000          0.2871   \n",
      "\n",
      "     worst fractal dimension  \n",
      "0                    0.11890  \n",
      "1                    0.08902  \n",
      "2                    0.08758  \n",
      "3                    0.17300  \n",
      "4                    0.07678  \n",
      "..                       ...  \n",
      "564                  0.07115  \n",
      "565                  0.06637  \n",
      "566                  0.07820  \n",
      "567                  0.12400  \n",
      "568                  0.07039  \n",
      "\n",
      "[569 rows x 30 columns]      0\n",
      "0    0\n",
      "1    0\n",
      "2    0\n",
      "3    0\n",
      "4    0\n",
      "..  ..\n",
      "564  0\n",
      "565  0\n",
      "566  0\n",
      "567  0\n",
      "568  1\n",
      "\n",
      "[569 rows x 1 columns]\n"
     ]
    }
   ],
   "source": [
    "print(x,y)"
   ]
  },
  {
   "cell_type": "code",
   "execution_count": 9,
   "id": "87563fe4",
   "metadata": {},
   "outputs": [],
   "source": [
    "train_x,test_x,train_y,test_y=train_test_split(x,y,test_size=.26,random_state=42)"
   ]
  },
  {
   "cell_type": "code",
   "execution_count": 10,
   "id": "c5a2671d",
   "metadata": {},
   "outputs": [
    {
     "data": {
      "text/plain": [
       "(421, 30)"
      ]
     },
     "execution_count": 10,
     "metadata": {},
     "output_type": "execute_result"
    }
   ],
   "source": [
    "train_x.shape"
   ]
  },
  {
   "cell_type": "code",
   "execution_count": 11,
   "id": "6a10ecb8",
   "metadata": {},
   "outputs": [
    {
     "data": {
      "text/plain": [
       "(148, 30)"
      ]
     },
     "execution_count": 11,
     "metadata": {},
     "output_type": "execute_result"
    }
   ],
   "source": [
    "test_x.shape"
   ]
  },
  {
   "cell_type": "code",
   "execution_count": 12,
   "id": "bb0fcf41",
   "metadata": {},
   "outputs": [],
   "source": [
    "lg=LogisticRegression()"
   ]
  },
  {
   "cell_type": "code",
   "execution_count": 13,
   "id": "f56ee708",
   "metadata": {},
   "outputs": [
    {
     "name": "stdout",
     "output_type": "stream",
     "text": [
      "0.9594594594594594\n",
      "[[53  4]\n",
      " [ 2 89]]\n",
      "              precision    recall  f1-score   support\n",
      "\n",
      "           0       0.96      0.93      0.95        57\n",
      "           1       0.96      0.98      0.97        91\n",
      "\n",
      "    accuracy                           0.96       148\n",
      "   macro avg       0.96      0.95      0.96       148\n",
      "weighted avg       0.96      0.96      0.96       148\n",
      "\n"
     ]
    }
   ],
   "source": [
    "lg.fit(train_x,train_y)\n",
    "lg.score(train_x,train_y)\n",
    "pred=lg.predict(test_x)\n",
    "print(accuracy_score(test_y,pred))\n",
    "print(confusion_matrix(test_y,pred))\n",
    "print(classification_report(test_y,pred))"
   ]
  },
  {
   "cell_type": "markdown",
   "id": "985d1bd1",
   "metadata": {},
   "source": [
    "## AUC-ROC"
   ]
  },
  {
   "cell_type": "code",
   "execution_count": 14,
   "id": "13aacbb8",
   "metadata": {},
   "outputs": [],
   "source": [
    "from sklearn.metrics import roc_curve\n",
    "from sklearn.metrics import roc_auc_score"
   ]
  },
  {
   "cell_type": "code",
   "execution_count": 39,
   "id": "db270c04",
   "metadata": {},
   "outputs": [],
   "source": [
    "prob_of_y=lg.predict_proba(test_x)[:,0]"
   ]
  },
  {
   "cell_type": "code",
   "execution_count": 40,
   "id": "6144ebd6",
   "metadata": {},
   "outputs": [
    {
     "data": {
      "text/plain": [
       "array([1.69416050e-01, 9.99999999e-01, 9.98929331e-01, 4.55619060e-03,\n",
       "       1.15419754e-03, 1.00000000e+00, 1.00000000e+00, 9.91017698e-01,\n",
       "       1.24669588e-03, 1.26577929e-02, 6.11207572e-02, 9.99729327e-01,\n",
       "       9.38704343e-03, 8.57580077e-01, 2.15560549e-03, 9.99264044e-01,\n",
       "       2.65914740e-03, 6.03141252e-04, 1.99980861e-03, 9.99999980e-01,\n",
       "       1.53579304e-01, 1.80659388e-02, 1.00000000e+00, 6.27429833e-03,\n",
       "       1.49142373e-02, 6.69388771e-04, 2.98313688e-03, 1.57862398e-02,\n",
       "       7.52047817e-03, 9.99999999e-01, 8.28900624e-03, 1.19850197e-03,\n",
       "       2.31463436e-02, 2.29305530e-02, 2.37076560e-03, 5.69226293e-03,\n",
       "       9.97861605e-01, 4.80167682e-03, 9.99998929e-01, 2.49760962e-01,\n",
       "       3.61972867e-03, 9.99336763e-01, 1.93507434e-03, 1.43491850e-02,\n",
       "       2.52829693e-03, 5.62091191e-02, 1.63009605e-03, 1.69563010e-02,\n",
       "       9.16867343e-02, 4.69893467e-03, 9.99974307e-01, 1.00000000e+00,\n",
       "       1.26020640e-01, 1.03274191e-03, 1.84631492e-03, 2.55180548e-02,\n",
       "       3.95628059e-03, 1.00000000e+00, 3.53507545e-01, 5.29045506e-04,\n",
       "       2.06325926e-02, 9.99999966e-01, 1.00000000e+00, 7.61329123e-02,\n",
       "       5.31618715e-03, 1.47438640e-01, 9.99993122e-01, 9.99999999e-01,\n",
       "       2.94503657e-03, 2.83588120e-02, 9.71004386e-01, 9.99984148e-01,\n",
       "       2.86846050e-03, 8.99613856e-01, 3.49111360e-02, 2.36903880e-03,\n",
       "       4.59264187e-02, 4.99771677e-01, 2.48755506e-03, 3.96767534e-03,\n",
       "       9.99356366e-01, 3.05723314e-03, 4.34000671e-01, 1.00000000e+00,\n",
       "       9.99093874e-01, 9.63838360e-01, 9.97958368e-01, 9.99999928e-01,\n",
       "       1.04219272e-02, 5.32284485e-03, 1.59509590e-02, 9.46381950e-02,\n",
       "       1.36192473e-01, 8.26419753e-03, 2.12960338e-03, 3.82686310e-03,\n",
       "       9.99999992e-01, 9.99999383e-01, 4.30154837e-04, 9.99945991e-01,\n",
       "       9.99940815e-01, 2.28603032e-04, 9.99999999e-01, 9.99035109e-01,\n",
       "       9.90140373e-02, 7.71414765e-02, 1.58456534e-02, 1.00000000e+00,\n",
       "       2.83408951e-02, 1.00735374e-01, 9.99885968e-01, 4.09692987e-03,\n",
       "       7.94574054e-01, 1.00000000e+00, 6.06448769e-02, 1.00000000e+00,\n",
       "       1.84706567e-03, 9.92506093e-02, 1.72161380e-03, 9.99098181e-01,\n",
       "       7.42461445e-01, 2.13494765e-03, 1.13115489e-02, 9.99988525e-01,\n",
       "       6.16665045e-02, 1.00000000e+00, 9.99360646e-01, 2.11220036e-02,\n",
       "       3.97202869e-03, 9.99999998e-01, 1.00000000e+00, 9.99355252e-01,\n",
       "       1.54037261e-01, 2.66819309e-03, 4.22567149e-02, 9.55925484e-01,\n",
       "       6.48133679e-02, 9.48625517e-03, 1.28060916e-01, 9.92584974e-01,\n",
       "       1.10860967e-02, 1.00000000e+00, 6.70478530e-04, 3.67945169e-04,\n",
       "       9.84007472e-01, 2.12114563e-02, 9.99998409e-01, 9.99999925e-01])"
      ]
     },
     "execution_count": 40,
     "metadata": {},
     "output_type": "execute_result"
    }
   ],
   "source": [
    "prob_of_y"
   ]
  },
  {
   "cell_type": "code",
   "execution_count": 36,
   "id": "1964c86d",
   "metadata": {},
   "outputs": [
    {
     "data": {
      "text/plain": [
       "(148, 2)"
      ]
     },
     "execution_count": 36,
     "metadata": {},
     "output_type": "execute_result"
    }
   ],
   "source": [
    "prob_of_y.shape"
   ]
  },
  {
   "cell_type": "code",
   "execution_count": 31,
   "id": "4253c67a",
   "metadata": {},
   "outputs": [],
   "source": [
    "fpr,tpr,threshold=roc_curve(test_y,prob_of_y[:,1],pos_label=1)"
   ]
  },
  {
   "cell_type": "code",
   "execution_count": 32,
   "id": "8cb96012",
   "metadata": {},
   "outputs": [
    {
     "data": {
      "text/plain": [
       "array([0.        , 0.        , 0.        , 0.01754386, 0.01754386,\n",
       "       0.07017544, 0.07017544, 1.        ])"
      ]
     },
     "execution_count": 32,
     "metadata": {},
     "output_type": "execute_result"
    }
   ],
   "source": [
    "fpr"
   ]
  },
  {
   "cell_type": "code",
   "execution_count": 33,
   "id": "f3d3d93f",
   "metadata": {},
   "outputs": [
    {
     "data": {
      "text/plain": [
       "array([0.        , 0.01098901, 0.94505495, 0.94505495, 0.97802198,\n",
       "       0.97802198, 1.        , 1.        ])"
      ]
     },
     "execution_count": 33,
     "metadata": {},
     "output_type": "execute_result"
    }
   ],
   "source": [
    "tpr"
   ]
  },
  {
   "cell_type": "code",
   "execution_count": 34,
   "id": "738d7bfe",
   "metadata": {},
   "outputs": [
    {
     "data": {
      "text/plain": [
       "array([1.99977140e+00, 9.99771397e-01, 8.52561360e-01, 8.46420696e-01,\n",
       "       7.50239038e-01, 5.00228323e-01, 2.05425946e-01, 1.23942066e-32])"
      ]
     },
     "execution_count": 34,
     "metadata": {},
     "output_type": "execute_result"
    }
   ],
   "source": [
    "threshold"
   ]
  },
  {
   "cell_type": "code",
   "execution_count": 21,
   "id": "d82e9b25",
   "metadata": {},
   "outputs": [
    {
     "data": {
      "image/png": "[encoded data removed]",
      "text/plain": [
       "<Figure size 432x288 with 1 Axes>"
      ]
     },
     "metadata": {
      "needs_background": "light"
     },
     "output_type": "display_data"
    }
   ],
   "source": [
    "plt.plot([0,1],[0,1],'k--')\n",
    "plt.plot(fpr,tpr)\n",
    "plt.xlabel('FPR')\n",
    "plt.ylabel('TPR')\n",
    "plt.title('Logistic Regression')\n",
    "plt.show()"
   ]
  },
  {
   "cell_type": "code",
   "execution_count": 22,
   "id": "5c088174",
   "metadata": {},
   "outputs": [],
   "source": [
    "auc_score=roc_auc_score(test_y,lg.predict(test_x))"
   ]
  },
  {
   "cell_type": "code",
   "execution_count": 23,
   "id": "4315f730",
   "metadata": {},
   "outputs": [
    {
     "name": "stdout",
     "output_type": "stream",
     "text": [
      "0.9539232697127434\n"
     ]
    }
   ],
   "source": [
    "print(auc_score)"
   ]
  },
  {
   "cell_type": "code",
   "execution_count": 24,
   "id": "636fac71",
   "metadata": {},
   "outputs": [
    {
     "name": "stdout",
     "output_type": "stream",
     "text": [
      "0.9459459459459459\n"
     ]
    }
   ],
   "source": [
    "from sklearn.tree import DecisionTreeClassifier\n",
    "dtc=DecisionTreeClassifier()\n",
    "dtc.fit(train_x,train_y)\n",
    "dtc.score(train_x,train_y)\n",
    "y_pred=dtc.predict(test_x)\n",
    "print(accuracy_score(test_y,y_pred))"
   ]
  },
  {
   "cell_type": "code",
   "execution_count": 25,
   "id": "d6d810b9",
   "metadata": {},
   "outputs": [
    {
     "data": {
      "image/png": "[encoded data removed]",
      "text/plain": [
       "<Figure size 432x288 with 1 Axes>"
      ]
     },
     "metadata": {
      "needs_background": "light"
     },
     "output_type": "display_data"
    }
   ],
   "source": [
    "pred_y=dtc.predict_proba(test_x)[:,1]\n",
    "fpr,tpr,threshold=roc_curve(test_y,pred_y)\n",
    "plt.plot([0,1],[0,1],'k--')\n",
    "plt.plot(fpr,tpr)\n",
    "plt.xlabel('1-Specificity')\n",
    "plt.ylabel('Sensitivity')\n",
    "plt.title('Decision Tree Classifier')\n",
    "plt.show()"
   ]
  },
  {
   "cell_type": "code",
   "execution_count": 26,
   "id": "0d83fe4f",
   "metadata": {},
   "outputs": [
    {
     "data": {
      "text/plain": [
       "0.9462116830537884"
      ]
     },
     "execution_count": 26,
     "metadata": {},
     "output_type": "execute_result"
    }
   ],
   "source": [
    "auro_score=roc_auc_score(test_y,y_pred)\n",
    "auro_score"
   ]
  },
  {
   "cell_type": "code",
   "execution_count": 27,
   "id": "7cb1fd4a",
   "metadata": {},
   "outputs": [
    {
     "name": "stdout",
     "output_type": "stream",
     "text": [
      "Conclusion of LogisticRegression() model:\n",
      "0.9594594594594594\n",
      "[[53  4]\n",
      " [ 2 89]]\n",
      "              precision    recall  f1-score   support\n",
      "\n",
      "           0       0.96      0.93      0.95        57\n",
      "           1       0.96      0.98      0.97        91\n",
      "\n",
      "    accuracy                           0.96       148\n",
      "   macro avg       0.96      0.95      0.96       148\n",
      "weighted avg       0.96      0.96      0.96       148\n",
      "\n",
      "\n",
      "\n",
      "Conclusion of GaussianNB() model:\n",
      "0.9594594594594594\n",
      "[[54  3]\n",
      " [ 3 88]]\n",
      "              precision    recall  f1-score   support\n",
      "\n",
      "           0       0.95      0.95      0.95        57\n",
      "           1       0.97      0.97      0.97        91\n",
      "\n",
      "    accuracy                           0.96       148\n",
      "   macro avg       0.96      0.96      0.96       148\n",
      "weighted avg       0.96      0.96      0.96       148\n",
      "\n",
      "\n",
      "\n",
      "Conclusion of SVC() model:\n",
      "0.9391891891891891\n",
      "[[49  8]\n",
      " [ 1 90]]\n",
      "              precision    recall  f1-score   support\n",
      "\n",
      "           0       0.98      0.86      0.92        57\n",
      "           1       0.92      0.99      0.95        91\n",
      "\n",
      "    accuracy                           0.94       148\n",
      "   macro avg       0.95      0.92      0.93       148\n",
      "weighted avg       0.94      0.94      0.94       148\n",
      "\n",
      "\n",
      "\n",
      "Conclusion of DecisionTreeClassifier() model:\n",
      "0.9527027027027027\n",
      "[[54  3]\n",
      " [ 4 87]]\n",
      "              precision    recall  f1-score   support\n",
      "\n",
      "           0       0.93      0.95      0.94        57\n",
      "           1       0.97      0.96      0.96        91\n",
      "\n",
      "    accuracy                           0.95       148\n",
      "   macro avg       0.95      0.95      0.95       148\n",
      "weighted avg       0.95      0.95      0.95       148\n",
      "\n",
      "\n",
      "\n"
     ]
    }
   ],
   "source": [
    "from sklearn.naive_bayes import GaussianNB\n",
    "from sklearn.svm import SVC\n",
    "import warnings\n",
    "warnings.filterwarnings('ignore')\n",
    "\n",
    "gnb=GaussianNB()\n",
    "svc=SVC()\n",
    "\n",
    "classifier=[lg,gnb,svc,dtc]\n",
    "for i in classifier:\n",
    "    i.fit(train_x,train_y)\n",
    "    i.score(train_x,train_y)\n",
    "    m_pred=i.predict(test_x)\n",
    "    print(f'Conclusion of {i} model:')\n",
    "    print(accuracy_score(test_y,m_pred))\n",
    "    print(confusion_matrix(test_y,m_pred))\n",
    "    print(classification_report(test_y,m_pred))\n",
    "    print('\\n')"
   ]
  }
 ],
 "metadata": {
  "kernelspec": {
   "display_name": "Python 3",
   "language": "python",
   "name": "python3"
  },
  "language_info": {
   "codemirror_mode": {
    "name": "ipython",
    "version": 3
   },
   "file_extension": ".py",
   "mimetype": "text/x-python",
   "name": "python",
   "nbconvert_exporter": "python",
   "pygments_lexer": "ipython3",
   "version": "3.8.8"
  }
 },
 "nbformat": 4,
 "nbformat_minor": 5
}
